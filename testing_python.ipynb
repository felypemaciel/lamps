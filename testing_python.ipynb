{
 "cells": [
  {
   "cell_type": "code",
   "execution_count": 1,
   "metadata": {},
   "outputs": [],
   "source": [
    "import numpy as np"
   ]
  },
  {
   "cell_type": "code",
   "execution_count": 5,
   "metadata": {},
   "outputs": [
    {
     "name": "stdout",
     "output_type": "stream",
     "text": [
      "[ 6 15 24]\n"
     ]
    }
   ],
   "source": [
    "arr = np.array( [[1, 2, 3],\n",
    "                [4, 5, 6],\n",
    "                [7, 8, 9]])\n",
    "\n",
    "row_sums = np.sum(arr, axis=1)\n",
    "\n",
    "print(row_sums)"
   ]
  },
  {
   "cell_type": "code",
   "execution_count": 6,
   "metadata": {},
   "outputs": [
    {
     "ename": "NameError",
     "evalue": "name 'maxPwr' is not defined",
     "output_type": "error",
     "traceback": [
      "\u001b[1;31m---------------------------------------------------------------------------\u001b[0m",
      "\u001b[1;31mNameError\u001b[0m                                 Traceback (most recent call last)",
      "Cell \u001b[1;32mIn[6], line 5\u001b[0m\n\u001b[0;32m      2\u001b[0m \u001b[38;5;28;01mimport\u001b[39;00m \u001b[38;5;21;01mmatplotlib\u001b[39;00m\u001b[38;5;21;01m.\u001b[39;00m\u001b[38;5;21;01mpyplot\u001b[39;00m \u001b[38;5;28;01mas\u001b[39;00m \u001b[38;5;21;01mplt\u001b[39;00m\n\u001b[0;32m      4\u001b[0m \u001b[38;5;66;03m# Assume maxPwr, numPatches, illumCoeff, and desired_illum are defined\u001b[39;00m\n\u001b[1;32m----> 5\u001b[0m P \u001b[38;5;241m=\u001b[39m np\u001b[38;5;241m.\u001b[39mlinspace(\u001b[38;5;241m0\u001b[39m, \u001b[43mmaxPwr\u001b[49m, \u001b[38;5;241m100\u001b[39m)\n\u001b[0;32m      6\u001b[0m currillum \u001b[38;5;241m=\u001b[39m np\u001b[38;5;241m.\u001b[39msum(illumCoeff[:, \u001b[38;5;28;01mNone\u001b[39;00m, :] \u001b[38;5;241m*\u001b[39m P[\u001b[38;5;28;01mNone\u001b[39;00m, :, \u001b[38;5;28;01mNone\u001b[39;00m], axis\u001b[38;5;241m=\u001b[39m\u001b[38;5;241m2\u001b[39m)  \u001b[38;5;66;03m# Optimized calculation\u001b[39;00m\n\u001b[0;32m      8\u001b[0m desired_illum \u001b[38;5;241m=\u001b[39m \u001b[38;5;241m50\u001b[39m  \u001b[38;5;66;03m# Example desired illumination level\u001b[39;00m\n",
      "\u001b[1;31mNameError\u001b[0m: name 'maxPwr' is not defined"
     ]
    }
   ],
   "source": [
    "import numpy as np\n",
    "import matplotlib.pyplot as plt\n",
    "\n",
    "# Assume maxPwr, numPatches, illumCoeff, and desired_illum are defined\n",
    "P = np.linspace(0, maxPwr, 100)\n",
    "currillum = np.sum(illumCoeff[:, None, :] * P[None, :, None], axis=2)  # Optimized calculation\n",
    "\n",
    "desired_illum = 50  # Example desired illumination level\n",
    "\n",
    "plt.figure(figsize=(8, 6))\n",
    "\n",
    "for i in range(min(5, numPatches)):  # Plot at most 5 patches for clarity\n",
    "    plt.plot(P, currillum[:, i], label=f'Patch {i+1}')\n",
    "    \n",
    "    # Find indices where illumination is close to desired_illum\n",
    "    idx = np.where(np.isclose(currillum[:, i], desired_illum, atol=1))[0]  # Adjust 'atol' for tolerance\n",
    "\n",
    "    # Add scatter points\n",
    "    plt.scatter(P[idx], currillum[idx, i], color='red', marker='o', label=f'Match Patch {i+1}')\n",
    "\n",
    "plt.xlabel('Power')\n",
    "plt.ylabel('Illumination')\n",
    "plt.legend()\n",
    "plt.title('Illumination vs Power')\n",
    "\n",
    "plt.show()\n"
   ]
  },
  {
   "cell_type": "code",
   "execution_count": 3,
   "metadata": {},
   "outputs": [
    {
     "name": "stderr",
     "output_type": "stream",
     "text": [
      "No artists with labels found to put in legend.  Note that artists whose label start with an underscore are ignored when legend() is called with no argument.\n"
     ]
    },
    {
     "data": {
      "image/png": "[encoded data removed]",
      "text/plain": [
       "<Figure size 640x480 with 1 Axes>"
      ]
     },
     "metadata": {},
     "output_type": "display_data"
    }
   ],
   "source": [
    "import numpy as np\n",
    "import matplotlib.pyplot as plt\n",
    "\n",
    "# Define the function h(u) = max(u, 1/u)\n",
    "def h(u):\n",
    "    return np.maximum(u, 1/u)\n",
    "\n",
    "# Generate values for u\n",
    "u = np.linspace(0.01, 2, 400)  # Avoid division by zero at u = 0\n",
    "\n",
    "# Calculate the corresponding values of h(u)\n",
    "y = h(u)\n",
    "\n",
    "# Plot the graph\n",
    "plt.plot(u, y, color='b')\n",
    "plt.xlabel('u')\n",
    "plt.ylabel('h(u)')\n",
    "plt.grid(True)\n",
    "plt.legend()\n",
    "plt.show()\n"
   ]
  },
  {
   "cell_type": "code",
   "execution_count": null,
   "metadata": {},
   "outputs": [],
   "source": []
  }
 ],
 "metadata": {
  "kernelspec": {
   "display_name": "Python 3",
   "language": "python",
   "name": "python3"
  },
  "language_info": {
   "codemirror_mode": {
    "name": "ipython",
    "version": 3
   },
   "file_extension": ".py",
   "mimetype": "text/x-python",
   "name": "python",
   "nbconvert_exporter": "python",
   "pygments_lexer": "ipython3",
   "version": "3.12.2"
  }
 },
 "nbformat": 4,
 "nbformat_minor": 2
}
