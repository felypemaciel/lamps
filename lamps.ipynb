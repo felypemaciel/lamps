{
 "cells": [
  {
   "cell_type": "markdown",
   "metadata": {},
   "source": [
    "# **Nonlinear Optimization 2024.2**"
   ]
  },
  {
   "cell_type": "markdown",
   "metadata": {},
   "source": [
    "### **Optimum power for a set of $m$ lamps iluminating a set of $n$ flat patches to best approach a target illumination**"
   ]
  },
  {
   "cell_type": "markdown",
   "metadata": {},
   "source": [
    "Consider $m$ lamps illuminating $n$ (small flat) patches. The illumination intensity $I_k$ at the $k$-th patch depends linearly on the lamp power $p_j$ as:\n",
    "\n",
    "\\begin{equation*}\n",
    "    I_k = \\displaystyle \\sum_{j=1}^{m}a_{k,j}p_j, \\quad \\text{with} \\quad a_{k,j} = r_{k,j}^{-2}\\max\\{cos(\\theta_{k.,j}),0\\},\n",
    "\\end{equation*}\n",
    "\n",
    "where $r_{k,j}$ is the length of the vector $r_{k,j}$ connecting the center of the $k$-th patch to the position of the $m$-th lamp and $\\theta_{k,j}$ is the angle between the patch normal vector $\\mathbf{n}_k$ and $\\mathbf{r}_{k,j}$. See the Convex Optimization book slides for more details.\n",
    "\n",
    "The proposed problem is to achieve a desired illumination $I_{des}$ with bounded lamp powers ($p_{max}$), i.e.,\n",
    "\n",
    "\\begin{align*}\n",
    "    & \\min \\underset{k=1,2,\\dots,n}{\\max}\\vert \\log{(I_k)} - \\log{(I_{des})} \\vert \\\\\n",
    "    \\text{s. t.}\\quad & 0 \\leq p_j \\leq p_{max}, j = 1, 2, \\dots, m.\n",
    "\\end{align*}"
   ]
  },
  {
   "cell_type": "markdown",
   "metadata": {},
   "source": [
    "#### **Suboptimally solve the problem using, e.g., Python or Octave, according to the following approaches:**\n",
    "\n",
    "1. Using uniform power, i.e., $p_j = p, 0 \\leq p \\leq p_{max}$.\n",
    "2. Using least-squares, i.e., $\\min . \\displaystyle \\sum_{k=1}^{n} (I_k - I_{des})^2$, and rounding $p_j$ as $p_j = \\max\\{0, \\min\\{p_j, p_{max}\\}\\}$.\n",
    "3. Using weighted least-squares, i.e., $\\min . \\displaystyle \\sum_{k=1}^{n}(I_k - I_{des})^2 + w_j\\sum_{j=1}^n (p_j - p_{max})^2$ and iteratively adjusting the weights $w_j$ until $0 \\leq p \\leq p_{max}, \\forall j$.\n",
    "4. Using linear programming, i.e., \n",
    "\n",
    "\\begin{align*}\n",
    "    & \\min . \\underset{k=1, 2, \\dots, n}{\\max} \\vert I_{k} - I_{des} \\vert \\\\\n",
    "    \\text{s. t.} \\quad & 0 \\leq p_j \\leq p_{max}, \\quad j = 1, 2, \\dots, m.\n",
    "\\end{align*}"
   ]
  },
  {
   "cell_type": "markdown",
   "metadata": {},
   "source": [
    "#### **Solve the problem optimally using convex optimization**\n",
    "\n",
    "For this goal, consider the equivalent convex problem\n",
    "\n",
    "\\begin{align*}\n",
    "    & \\min . \\underset{k = 1, 2, \\dots, n}{\\max} h\\left(\\cfrac{I_k}{I_{des}}\\right) \\\\\n",
    "    \\text{s. t.} \\quad & 0 \\leq p_j \\leq p_{max}, \\quad j = 1, 2, \\dots, m, \n",
    "\\end{align*}\n",
    "\n",
    "where $h(u) = \\max\\left\\{u, \\cfrac{1}{u}\\right\\}$"
   ]
  },
  {
   "cell_type": "code",
   "execution_count": 108,
   "metadata": {},
   "outputs": [],
   "source": [
    "import numpy as np\n",
    "import matplotlib.pyplot as plt\n",
    "import pandas as pd"
   ]
  },
  {
   "cell_type": "code",
   "execution_count": 109,
   "metadata": {},
   "outputs": [
    {
     "data": {
      "image/png": "[encoded data removed]",
      "text/plain": [
       "<Figure size 640x480 with 1 Axes>"
      ]
     },
     "metadata": {},
     "output_type": "display_data"
    }
   ],
   "source": [
    "showFig = True\n",
    "numLamps = 4            # number of lamps\n",
    "numPatches = 5          # number of patches\n",
    "maxPwr = 1              # maximum power\n",
    "desiredillum = 0.01     # desired illumination\n",
    "\n",
    "# Define lamp and patch positions\n",
    "lampPos = np.array([\n",
    "    [0.7609, 6.9497],\n",
    "    [1.9382, 8.0610],\n",
    "    [4.4674, 6.7316],\n",
    "    [7.4095, 7.3987]\n",
    "])\n",
    "\n",
    "patchPos = np.array([\n",
    "    [0.1329, 3.9041],\n",
    "    [1.5435, 2.6782],\n",
    "    [3.3102, 3.3981],\n",
    "    [4.7796, 2.2716],\n",
    "    [5.8071, 2.4345],\n",
    "    [7.0621, 2.1015]\n",
    "])\n",
    "\n",
    "lampPos = lampPos[:, 0] + 1j * lampPos[:, 1]\n",
    "patchPos = patchPos[:, 0] + 1j * patchPos[:, 1]\n",
    "patchCenter = (patchPos[:-1] + patchPos[1:]) / 2\n",
    "patchNorm = patchPos[1:] - patchPos[:-1]\n",
    "minPatchLength = np.min(np.abs(patchNorm)) / 2\n",
    "\n",
    "for p in range(len(patchNorm)):\n",
    "    n = np.linalg.svd(np.array([[np.real(patchNorm[p]), np.imag(patchNorm[p])]]).T)[0][:, 1]\n",
    "    patchNorm[p] = minPatchLength * (n[0] + 1j * n[1])\n",
    "\n",
    "fig = plt.figure()\n",
    "\n",
    "if showFig:\n",
    "    plt.plot(np.real(lampPos), np.imag(lampPos), 'ro', markerfacecolor='auto', label='Lamps')\n",
    "    plt.plot(np.real(patchPos), np.imag(patchPos), 'bo-', markerfacecolor='auto', label='Patches')\n",
    "    plt.plot(np.real(patchCenter), np.imag(patchCenter), 'mx', markerfacecolor='auto', label='Patch Centers')\n",
    "    plt.plot(np.real(patchNorm + patchCenter), np.imag(patchNorm + patchCenter), 'kd', markerfacecolor='auto', label='Patch Normals')\n",
    "    \n",
    "    for i in range(len(patchCenter)):\n",
    "        plt.plot([np.real(patchCenter[i]), np.real(patchNorm[i] + patchCenter[i])],\n",
    "                 [np.imag(patchCenter[i]), np.imag(patchNorm[i] + patchCenter[i])], 'k--')\n",
    "    \n",
    "    plt.axis('equal')\n",
    "    plt.xlabel('x')\n",
    "    plt.ylabel('y')\n",
    "    plt.legend()\n",
    "\n",
    "radDist = np.zeros((len(patchCenter), len(lampPos)))\n",
    "angShift = np.zeros((len(patchCenter), len(lampPos)))\n",
    "\n",
    "for i in range(len(patchCenter)):\n",
    "    for j in range(len(lampPos)):\n",
    "        radDist[i, j] = np.abs(patchCenter[i] - lampPos[j])\n",
    "        angShift[i, j] = np.angle(lampPos[j] - patchCenter[i]) - np.angle(patchNorm[i])\n",
    "\n",
    "illumCoeff = radDist ** (-2) * np.maximum(np.cos(angShift), 0)\n",
    "\n",
    "plt.savefig('report/figures/lamps-patches-position.pdf', format='pdf', bbox_inches='tight')\n",
    "\n",
    "plt.show()\n"
   ]
  },
  {
   "cell_type": "markdown",
   "metadata": {},
   "source": [
    "## **Suboptimal Approaches**"
   ]
  },
  {
   "cell_type": "markdown",
   "metadata": {},
   "source": [
    "### **1. Uniform power**\n"
   ]
  },
  {
   "cell_type": "markdown",
   "metadata": {},
   "source": [
    "$p_j = p, 0 \\leq p \\leq p_{max}$"
   ]
  },
  {
   "cell_type": "markdown",
   "metadata": {},
   "source": [
    "For this approach, a value of power $p$ is assumed to be the same for all the lamps. By varying the value of $p$, it is possible to see how the illuminations of each patch behave."
   ]
  },
  {
   "cell_type": "code",
   "execution_count": 110,
   "metadata": {},
   "outputs": [],
   "source": [
    "def worstCase(illumination, desiredillum):\n",
    "    log_I_des = np.log(desiredillum)\n",
    "    log_I     = np.log(illumination)\n",
    "    diff      = log_I - log_I_des\n",
    "    abs_diff  = np.abs(diff)\n",
    "\n",
    "    worst     = np.max(abs_diff)\n",
    "\n",
    "    return worst"
   ]
  },
  {
   "cell_type": "code",
   "execution_count": null,
   "metadata": {},
   "outputs": [
    {
     "name": "stderr",
     "output_type": "stream",
     "text": [
      "C:\\Users\\room2\\AppData\\Local\\Temp\\ipykernel_25132\\974805615.py:3: RuntimeWarning: divide by zero encountered in log\n",
      "  log_I     = np.log(illumination)\n"
     ]
    }
   ],
   "source": [
    "P = np.arange(0, 0.15, 0.15/100)            # varying the value of p\n",
    "currillum = np.zeros((len(P), numPatches))  # current illumination vector\n",
    "worst_result = np.zeros((len(P),1))\n",
    "\n",
    "# calculating the illumination for each value of p\n",
    "for i in range(0, len(P)):\n",
    "    currillum[i,:] = np.sum(illumCoeff*P[i], axis=1)\n",
    "    worst_result[i] = worstCase(currillum[i,:],desiredillum)"
   ]
  },
  {
   "cell_type": "code",
   "execution_count": null,
   "metadata": {},
   "outputs": [],
   "source": [
    "min_worst_idx = np.argmin(worst_result)\n",
    "\n",
    "p_uniform = P[min_worst_idx]\n",
    "p_uniform = np.full(4, p_uniform)"
   ]
  },
  {
   "cell_type": "code",
   "execution_count": null,
   "metadata": {},
   "outputs": [
    {
     "data": {
      "image/png": "[encoded data removed]",
      "text/plain": [
       "<Figure size 640x480 with 1 Axes>"
      ]
     },
     "metadata": {},
     "output_type": "display_data"
    }
   ],
   "source": [
    "# plotting the patches illumination as p increases\n",
    "for i in range(5):\n",
    "    plt.plot(P, currillum[:,i], label=f'Patch {i+1}')\n",
    "    \n",
    "    idx = np.where(np.isclose(currillum[:, i], desiredillum, atol=6e-5))[0]\n",
    "\n",
    "    plt.scatter(P[idx], currillum[idx, i], marker='o')\n",
    "\n",
    "# plotting desired illumination line\n",
    "plt.axhline(y=desiredillum, color='gray', linestyle='--', linewidth=1.5, label='Desired Illumination')\n",
    "\n",
    "plt.xlabel('Power')\n",
    "plt.ylabel('Illumination')\n",
    "plt.legend()\n",
    "\n",
    "plt.savefig('report/figures/uniform-power.pdf', format='pdf', bbox_inches='tight')\n",
    "\n",
    "plt.show()"
   ]
  },
  {
   "cell_type": "code",
   "execution_count": 114,
   "metadata": {},
   "outputs": [
    {
     "name": "stderr",
     "output_type": "stream",
     "text": [
      "<>:5: SyntaxWarning: invalid escape sequence '\\l'\n",
      "<>:5: SyntaxWarning: invalid escape sequence '\\l'\n",
      "C:\\Users\\room2\\AppData\\Local\\Temp\\ipykernel_25132\\1435577201.py:5: SyntaxWarning: invalid escape sequence '\\l'\n",
      "  plt.ylabel('$|\\log(I) - \\log(I_{des})|$')\n",
      "No artists with labels found to put in legend.  Note that artists whose label start with an underscore are ignored when legend() is called with no argument.\n"
     ]
    },
    {
     "data": {
      "image/png": "[encoded data removed]",
      "text/plain": [
       "<Figure size 640x480 with 1 Axes>"
      ]
     },
     "metadata": {},
     "output_type": "display_data"
    }
   ],
   "source": [
    "plt.plot(P, worst_result)\n",
    "plt.scatter(P[min_worst_idx], worst_result[min_worst_idx], marker='o')\n",
    "\n",
    "plt.xlabel('Power')\n",
    "plt.ylabel('$|\\log(I) - \\log(I_{des})|$')\n",
    "plt.legend()\n",
    "\n",
    "plt.savefig('report/figures/uniform-power-worst.pdf', format='pdf', bbox_inches='tight')\n",
    "\n",
    "plt.show()"
   ]
  },
  {
   "cell_type": "markdown",
   "metadata": {},
   "source": [
    "The figure shows how the illumination in each patch evolves as the power $p$ grows. We see that the desired illumination is met for each patch at different values of $p$. In this manner, even though it is possible to reach the desired illumination for a patch, the others either have less or more illumination that they should.\n",
    "\n",
    "The RMSE curve shows how the RMSE varies for the power variation. The power that minimizes it used to calculate the illumination coefficients, which are shown below."
   ]
  },
  {
   "cell_type": "code",
   "execution_count": 115,
   "metadata": {},
   "outputs": [
    {
     "data": {
      "text/plain": [
       "array([0.01286644, 0.01180175, 0.00969436, 0.01039611, 0.00768935])"
      ]
     },
     "execution_count": 115,
     "metadata": {},
     "output_type": "execute_result"
    }
   ],
   "source": [
    "illumCoeff @ p_uniform"
   ]
  },
  {
   "cell_type": "markdown",
   "metadata": {},
   "source": [
    "### **2. Least Squares**"
   ]
  },
  {
   "cell_type": "markdown",
   "metadata": {},
   "source": [
    "In the least-squares approach, we aim at determining the vector of powers $p$ that minimizes the squared difference between the patche's illuminations and the desired illumination.\n",
    "\n",
    "$$\n",
    "    \\min . \\displaystyle \\sum_{k=1}^{n} (I_k - I_{des})^2\n",
    "$$\n",
    "\n",
    "In this approach, it is not possible to set the constraints for $p$, i.e., ($0 <= p <= p_{max}$). A possible way to get over this is to set negative elements of $p$ to 0 and values greater than $p_{max}$ to be equal to $p_{max}$, i.e.,:\n",
    "\n",
    "$$\n",
    "    p_j = max\\{0, min\\{p_j, p_{max}\\}\\}\n",
    "$$\n",
    "\n",
    "The matrix form of the problem is\n",
    "\n",
    "$$\n",
    "    \\min (Ap - I_{des})^2,\n",
    "$$\n",
    "\n",
    "where $A$ is the matrix of illumination coefficients $a_{kj}$, that represent the illumination coefficient of lamp j to the patch k. $p$ is the vector of lamps powers. Each element of $Ap$ gives the illumination of a patch.\n",
    "\n",
    "The least-squares problem has a closed form for determining $p$, which is\n",
    "\n",
    "$$\n",
    "    p = (A^T A)^{-1} A^T I_{des}\n",
    "$$"
   ]
  },
  {
   "cell_type": "code",
   "execution_count": 116,
   "metadata": {},
   "outputs": [],
   "source": [
    "illumCoeff_T = illumCoeff.T                                         # transpose of the illumination coefficients matrix\n",
    "y = np.full(5, desiredillum)                                        # desired illumination vector\n",
    "p_opt = np.linalg.inv(illumCoeff_T @ illumCoeff) @ illumCoeff_T @ y # closed form for calculating p"
   ]
  },
  {
   "cell_type": "code",
   "execution_count": 117,
   "metadata": {},
   "outputs": [
    {
     "name": "stdout",
     "output_type": "stream",
     "text": [
      "[-0.39888698  0.94358396 -0.1430944   0.19224969]\n",
      "[0.         0.94358396 0.         0.19224969]\n"
     ]
    }
   ],
   "source": [
    "print(p_opt)                            # original least-squares solution\n",
    "p_opt_const = np.clip(p_opt, 0, maxPwr) # setting 0 <= p_j <= p_max\n",
    "print(p_opt_const)                      # constrained least-squares solution"
   ]
  },
  {
   "cell_type": "code",
   "execution_count": 118,
   "metadata": {},
   "outputs": [
    {
     "name": "stdout",
     "output_type": "stream",
     "text": [
      "[0.01006799 0.00981983 0.00966871 0.01050695 0.00989504]\n",
      "[0.03782913 0.03693258 0.02109339 0.02549537 0.01766888]\n"
     ]
    }
   ],
   "source": [
    "print(illumCoeff @ p_opt)       # illuminations for the original solution\n",
    "print(illumCoeff @ p_opt_const) # illuminations for the constrained solution"
   ]
  },
  {
   "cell_type": "markdown",
   "metadata": {},
   "source": [
    "It is possible to see that the solution obtained through least-squares produces illuminations quite close the desired. However, since it does not have constraints, there are lamps with negative powers. Additionally, the solution could also have lamps using more power than it was established. \n",
    "When fixing the negative powers, the patches' ilumination become far away from the desired."
   ]
  },
  {
   "cell_type": "markdown",
   "metadata": {},
   "source": [
    "### **3. Weighted Least Squares**"
   ]
  },
  {
   "cell_type": "markdown",
   "metadata": {},
   "source": [
    "In the weighted least-squares approach, we aim at minimizing a function composed of the least-squares approach function and the squared difference between the vector $p$ and $p_{max}$, weighted by coefficients $w$. \n",
    "\n",
    "$$\n",
    "    \\min . \\displaystyle \\sum_{k=1}^{n}(I_k - I_{des})^2 + w_j\\sum_{j=1}^n (p_j - p_{max})^2\n",
    "$$\n",
    "\n",
    "The purpose of this additional term is to penalise the cost function for values of $p_j$ that deviate from $p_{max}$. The coefficient $w_j$ determines how strong this penalty is, and it can be adjusted to meet the constraints for $p$: $0 \\leq p \\leq p_{max}$. In this approach, the weights must be iteratively be changed to meet the constraints.\n",
    "\n",
    "This problem also has a closed form for $p$:\n",
    "\n",
    "$$\n",
    "    p = (A^T A + W)^{-1} \\cdot (A^T I_{des} + W p_{max}),\n",
    "$$\n",
    "\n",
    "where $W \\in \\mathbb{R}^{m \\times m}$ is the diagonal matrix of weights."
   ]
  },
  {
   "cell_type": "code",
   "execution_count": 119,
   "metadata": {},
   "outputs": [],
   "source": [
    "I_des = np.full(5, desiredillum)    # desired illumination vector\n",
    "p_max = np.full(4, maxPwr)          # maximum power vector"
   ]
  },
  {
   "cell_type": "code",
   "execution_count": null,
   "metadata": {},
   "outputs": [],
   "source": [
    "w = np.zeros(4)   # matrix of weights\n",
    "max_iter = 1000  # maximum number of iterations\n",
    "\n",
    "# the weights are adjusted untill the powers meet the constraints\n",
    "for _ in range(max_iter):\n",
    "    alpha = 0.01   # rate\n",
    "    W = np.diag(w)  # weight's matrix\n",
    "\n",
    "    p_opt_wls = np.linalg.inv(illumCoeff_T @ illumCoeff + W) @ (illumCoeff_T @ I_des + W @ p_max)   # calculate powers\n",
    "    illumination = illumCoeff @ p_opt_wls                                                           # calculate illumination\n",
    "    squared_error = (desiredillum - illumination)**2                                                # illumination squared error\n",
    "\n",
    "    E = np.sum(squared_error)\n",
    "\n",
    "    if (np.all(p_opt_wls >= 0) and np.all(p_opt_wls <= p_max)):\n",
    "        break\n",
    "\n",
    "    w_new = w + alpha*((p_opt_wls - p_max)**2) * E\n",
    "    w = w_new\n",
    "    \n"
   ]
  },
  {
   "cell_type": "code",
   "execution_count": 121,
   "metadata": {},
   "outputs": [
    {
     "data": {
      "text/plain": [
       "array([0.00020944, 0.19496187, 0.01201117, 0.19526927])"
      ]
     },
     "execution_count": 121,
     "metadata": {},
     "output_type": "execute_result"
    }
   ],
   "source": [
    "p_opt_wls   # powers vector"
   ]
  },
  {
   "cell_type": "code",
   "execution_count": 122,
   "metadata": {},
   "outputs": [
    {
     "data": {
      "text/plain": [
       "array([0.0107828 , 0.00922256, 0.00986564, 0.01029437, 0.00973501])"
      ]
     },
     "execution_count": 122,
     "metadata": {},
     "output_type": "execute_result"
    }
   ],
   "source": [
    "illumCoeff @ p_opt_wls  # illuminations for the weighted least-squares solution"
   ]
  },
  {
   "cell_type": "markdown",
   "metadata": {},
   "source": [
    "### **4. Linear Programming**\n",
    "\n"
   ]
  },
  {
   "cell_type": "markdown",
   "metadata": {},
   "source": [
    "In the linear programming approach, we aim at formulate the problem such that it has a linear objective function and linear constraints. The proposed problem is to minimize the maximum of the absolute difference between the illumination of a patch and the desired illumination. "
   ]
  },
  {
   "cell_type": "markdown",
   "metadata": {},
   "source": [
    "\\begin{align*}\n",
    "    & \\min . \\underset{k=1, 2, \\dots, n}{\\max} \\vert I_{k} - I_{des} \\vert \\\\\n",
    "    \\text{s. t.} \\quad & 0 \\leq p_j \\leq p_{max}, \\quad j = 1, 2, \\dots, m.\n",
    "\\end{align*}\n",
    "\n",
    "We can introduce a new variable $t$, such that $t \\leq |I_k - I_{des}|, \\quad \\forall k = 1, \\dots, n $\n",
    "\n",
    "However, the absolute value is a nonlinear function. This way, we can add linear inequalities to contour this problem.\n",
    "$$\n",
    "\\begin{align*}\n",
    "    t \\geq & I_k - I_{des}, \\quad \\forall k\\\\\n",
    "    t \\geq & -(I_k - I_{des}) \\quad \\forall k\n",
    "\\end{align*}\n",
    "$$\n",
    "Then, the linear programming problem is defined as:\n",
    "$$\n",
    "\\begin{align*}\n",
    "    \\min \\quad & t\\\\\n",
    "    s.t. \\quad & t \\geq I_k - I_{des} \\\\\n",
    "               & t \\geq -(I_k - I_{des}) \\\\\n",
    "               & 0 \\leq p_j \\leq p_{max}, \\quad j = 1, \\dots, m\n",
    "\\end{align*}\n",
    "$$\n",
    "\n"
   ]
  },
  {
   "cell_type": "code",
   "execution_count": 123,
   "metadata": {},
   "outputs": [],
   "source": [
    "import cvxpy as cp  # cvxpy library"
   ]
  },
  {
   "cell_type": "code",
   "execution_count": 124,
   "metadata": {},
   "outputs": [],
   "source": [
    "p = cp.Variable(4, nonneg=True)  # vector of powers\n",
    "t = cp.Variable()   # new variable t"
   ]
  },
  {
   "cell_type": "code",
   "execution_count": 125,
   "metadata": {},
   "outputs": [],
   "source": [
    "objective = cp.Minimize(t)  # the objective is to minimize t"
   ]
  },
  {
   "cell_type": "code",
   "execution_count": 126,
   "metadata": {},
   "outputs": [],
   "source": [
    "# adding the constraints\n",
    "constraints = [\n",
    "    t >= (illumCoeff @ p ) - I_des,     # t must be greater than or equal to the difference between the                                 # patches' illumination and the desired illumination\n",
    "    t >= -((illumCoeff @ p) - I_des),   # t must also be greater than the negative of the alredy described vector.\n",
    "    p <= p_max                          # the powers must be less than the p_max\n",
    "]"
   ]
  },
  {
   "cell_type": "code",
   "execution_count": 127,
   "metadata": {},
   "outputs": [
    {
     "data": {
      "text/plain": [
       "0.0007120545889562882"
      ]
     },
     "execution_count": 127,
     "metadata": {},
     "output_type": "execute_result"
    }
   ],
   "source": [
    "problem = cp.Problem(objective, constraints)    # optimization problem\n",
    "problem.solve()                                 # solving the optimization problem"
   ]
  },
  {
   "cell_type": "code",
   "execution_count": 128,
   "metadata": {},
   "outputs": [
    {
     "name": "stdout",
     "output_type": "stream",
     "text": [
      "[9.34800349e-08 1.60824541e-01 6.00384603e-02 1.50503641e-01]\n"
     ]
    }
   ],
   "source": [
    "p_lp = p.value  # linear programming solution\n",
    "print(p_lp)"
   ]
  },
  {
   "cell_type": "code",
   "execution_count": 129,
   "metadata": {},
   "outputs": [
    {
     "data": {
      "text/plain": [
       "array([0.01071205, 0.00928795, 0.01059634, 0.01071204, 0.00928795])"
      ]
     },
     "execution_count": 129,
     "metadata": {},
     "output_type": "execute_result"
    }
   ],
   "source": [
    "illumCoeff @ p_lp   # illuminations obtained with the linear programming solution"
   ]
  },
  {
   "cell_type": "markdown",
   "metadata": {},
   "source": [
    "The Linear Programming approach produces illuminations quite close to the desired without consuming much power as the previous approach. "
   ]
  },
  {
   "cell_type": "markdown",
   "metadata": {},
   "source": [
    "## **Optimal Approach**"
   ]
  },
  {
   "cell_type": "markdown",
   "metadata": {},
   "source": [
    "### **Convex Optimization**"
   ]
  },
  {
   "cell_type": "markdown",
   "metadata": {},
   "source": [
    "In this approach, the problem is formulated as to minimize a convex function. \n",
    "\n",
    "\\begin{align*}\n",
    "    & \\min . \\underset{k = 1, 2, \\dots, n}{\\max} h\\left(\\cfrac{I_k}{I_{des}}\\right) \\\\\n",
    "    \\text{s. t.} \\quad & 0 \\leq p_j \\leq p_{max}, \\quad j = 1, 2, \\dots, m, \n",
    "\\end{align*}\n",
    "\n",
    "where $h(u) = \\max\\left\\{u, \\cfrac{1}{u}\\right\\}$"
   ]
  },
  {
   "cell_type": "markdown",
   "metadata": {},
   "source": [
    "As $I_k$ approaches $I_{des}$, the fraction $\\cfrac{I_k}{I_{des}}$ gets closer to 1. The function $h(I_k/I_{des})$ produces great values when $I_k < I_{des}$ and linearly crescent values when $I_k > I_{des}$. This way, $h(\\cdot)$ has as its minimum the value 1, i.e., when $I_k = I_{des}$. This way, when minimizing $h(\\cdot)$, we are aiming at minimizing the difference between $I_k$ and $I_{des}$. The plot below shows the behaviour of $h(\\cdot)$."
   ]
  },
  {
   "cell_type": "code",
   "execution_count": 130,
   "metadata": {},
   "outputs": [
    {
     "data": {
      "image/png": "[encoded data removed]",
      "text/plain": [
       "<Figure size 640x480 with 1 Axes>"
      ]
     },
     "metadata": {},
     "output_type": "display_data"
    }
   ],
   "source": [
    "x = np.linspace(0.001,4,1000)\n",
    "y = np.maximum(x,1/x)\n",
    "\n",
    "plt.ylim(0, 5)\n",
    "\n",
    "plt.plot(x, y)\n",
    "plt.xlabel('$u$')\n",
    "plt.ylabel('$h(u)$')\n",
    "\n",
    "plt.savefig('report/figures/convex-function.pdf', format='pdf', bbox_inches='tight')\n",
    "\n",
    "plt.show()"
   ]
  },
  {
   "cell_type": "code",
   "execution_count": 131,
   "metadata": {},
   "outputs": [],
   "source": [
    "import cvxpy as cp  # cvxpy library"
   ]
  },
  {
   "cell_type": "code",
   "execution_count": 132,
   "metadata": {},
   "outputs": [],
   "source": [
    "p = cp.Variable(4, nonneg=True) # vector of powers, nonnegative\n",
    "t = cp.Variable(nonneg=True)    # additional variable t\n",
    "s = cp.Variable(nonneg=True)    # additional variable s"
   ]
  },
  {
   "cell_type": "code",
   "execution_count": 133,
   "metadata": {},
   "outputs": [],
   "source": [
    "objective = cp.Minimize(t)  # the objective is to minimize t"
   ]
  },
  {
   "cell_type": "code",
   "execution_count": 134,
   "metadata": {},
   "outputs": [],
   "source": [
    "# problem's constrains\n",
    "constraints = [\n",
    "    (illumCoeff @ p) / I_des <= t,  # I_k / I_des <= t\n",
    "    s * I_des <= illumCoeff @ p,    # s * I_des <= I_k\n",
    "    t * s >= 1,                     # s = t / 1\n",
    "    p <= p_max                      # p <= p_max\n",
    "]"
   ]
  },
  {
   "cell_type": "code",
   "execution_count": 135,
   "metadata": {},
   "outputs": [
    {
     "data": {
      "text/plain": [
       "1.0739097099420345"
      ]
     },
     "execution_count": 135,
     "metadata": {},
     "output_type": "execute_result"
    }
   ],
   "source": [
    "problem = cp.Problem(objective, constraints)    # optimization problem\n",
    "problem.solve(qcp=True, solver=cp.SCS)          # solving optimization problem"
   ]
  },
  {
   "cell_type": "code",
   "execution_count": 136,
   "metadata": {},
   "outputs": [],
   "source": [
    "p_cvx = p.value # convex optimization solution"
   ]
  },
  {
   "cell_type": "code",
   "execution_count": 137,
   "metadata": {},
   "outputs": [
    {
     "data": {
      "text/plain": [
       "array([0.01073933, 0.00931156, 0.01062336, 0.01073936, 0.00931171])"
      ]
     },
     "execution_count": 137,
     "metadata": {},
     "output_type": "execute_result"
    }
   ],
   "source": [
    "illumCoeff @ p_cvx  # illuminations given by the convex optimizatio solution"
   ]
  },
  {
   "cell_type": "markdown",
   "metadata": {},
   "source": [
    "### **Comparing Methods**"
   ]
  },
  {
   "cell_type": "code",
   "execution_count": 139,
   "metadata": {},
   "outputs": [],
   "source": [
    "ill_uniform  = illumCoeff @ p_uniform\n",
    "ill_ls       = illumCoeff @ p_opt\n",
    "ill_ls_const = illumCoeff @ p_opt_const\n",
    "ill_wls      = illumCoeff @ p_opt_wls\n",
    "ill_lp       = illumCoeff @ p_lp\n",
    "ill_cvx      = illumCoeff @ p_cvx"
   ]
  },
  {
   "cell_type": "code",
   "execution_count": 145,
   "metadata": {},
   "outputs": [],
   "source": [
    "worst_uni      = worstCase(ill_uniform,  desiredillum)\n",
    "worst_ls       = worstCase(ill_ls,       desiredillum)\n",
    "worst_ls_const = worstCase(ill_ls_const, desiredillum)\n",
    "worst_wls      = worstCase(ill_wls,      desiredillum)\n",
    "worst_lp       = worstCase(ill_lp,       desiredillum)\n",
    "worst_cvx      = worstCase(ill_cvx,      desiredillum)"
   ]
  },
  {
   "cell_type": "code",
   "execution_count": 147,
   "metadata": {},
   "outputs": [],
   "source": [
    "methods = ['Uniform Power', 'Least-Squares', 'Weighted Least-Squares', 'Linear Programming', 'Convex Optimization']\n",
    "worst_all = [worst_uni, worst_ls_const, worst_wls, worst_lp, worst_cvx]"
   ]
  },
  {
   "cell_type": "code",
   "execution_count": 148,
   "metadata": {},
   "outputs": [
    {
     "data": {
      "text/html": [
       "<style type=\"text/css\">\n",
       "#T_d74a9 th {\n",
       "  text-align: center;\n",
       "}\n",
       "#T_d74a9 td {\n",
       "  text-align: left;\n",
       "}\n",
       "#T_d74a9 thead th {\n",
       "  text-align: center;\n",
       "}\n",
       "</style>\n",
       "<table id=\"T_d74a9\">\n",
       "  <thead>\n",
       "    <tr>\n",
       "      <th class=\"blank level0\" >&nbsp;</th>\n",
       "      <th id=\"T_d74a9_level0_col0\" class=\"col_heading level0 col0\" >Method</th>\n",
       "      <th id=\"T_d74a9_level0_col1\" class=\"col_heading level0 col1\" >Worst case</th>\n",
       "    </tr>\n",
       "  </thead>\n",
       "  <tbody>\n",
       "    <tr>\n",
       "      <th id=\"T_d74a9_level0_row0\" class=\"row_heading level0 row0\" >0</th>\n",
       "      <td id=\"T_d74a9_row0_col0\" class=\"data row0 col0\" >Uniform Power</td>\n",
       "      <td id=\"T_d74a9_row0_col1\" class=\"data row0 col1\" >0.262749</td>\n",
       "    </tr>\n",
       "    <tr>\n",
       "      <th id=\"T_d74a9_level0_row1\" class=\"row_heading level0 row1\" >1</th>\n",
       "      <td id=\"T_d74a9_row1_col0\" class=\"data row1 col0\" >Least-Squares</td>\n",
       "      <td id=\"T_d74a9_row1_col1\" class=\"data row1 col1\" >1.330494</td>\n",
       "    </tr>\n",
       "    <tr>\n",
       "      <th id=\"T_d74a9_level0_row2\" class=\"row_heading level0 row2\" >2</th>\n",
       "      <td id=\"T_d74a9_row2_col0\" class=\"data row2 col0\" >Weighted Least-Squares</td>\n",
       "      <td id=\"T_d74a9_row2_col1\" class=\"data row2 col1\" >0.080933</td>\n",
       "    </tr>\n",
       "    <tr>\n",
       "      <th id=\"T_d74a9_level0_row3\" class=\"row_heading level0 row3\" >3</th>\n",
       "      <td id=\"T_d74a9_row3_col0\" class=\"data row3 col0\" >Linear Programming</td>\n",
       "      <td id=\"T_d74a9_row3_col1\" class=\"data row3 col1\" >0.073868</td>\n",
       "    </tr>\n",
       "    <tr>\n",
       "      <th id=\"T_d74a9_level0_row4\" class=\"row_heading level0 row4\" >4</th>\n",
       "      <td id=\"T_d74a9_row4_col0\" class=\"data row4 col0\" >Convex Optimization</td>\n",
       "      <td id=\"T_d74a9_row4_col1\" class=\"data row4 col1\" >0.071330</td>\n",
       "    </tr>\n",
       "  </tbody>\n",
       "</table>\n"
      ],
      "text/plain": [
       "<pandas.io.formats.style.Styler at 0x23122390ce0>"
      ]
     },
     "metadata": {},
     "output_type": "display_data"
    }
   ],
   "source": [
    "stats = {'Method': methods, 'Worst case': worst_all}\n",
    "stats = pd.DataFrame(stats)\n",
    "# stats.index = methods\n",
    "\n",
    "stats = stats.style.set_table_styles(\n",
    "    [{'selector': 'th', 'props': [('text-align', 'center')]},         # align column headers\n",
    "     {'selector': 'td', 'props': [('text-align', 'left')]},       # align data to the center\n",
    "     {'selector': 'thead th', 'props': [('text-align', 'center')]}    # ensure headers are aligned left\n",
    "    ], axis=None)\n",
    "\n",
    "display(stats)"
   ]
  }
 ],
 "metadata": {
  "kernelspec": {
   "display_name": "Python 3",
   "language": "python",
   "name": "python3"
  },
  "language_info": {
   "codemirror_mode": {
    "name": "ipython",
    "version": 3
   },
   "file_extension": ".py",
   "mimetype": "text/x-python",
   "name": "python",
   "nbconvert_exporter": "python",
   "pygments_lexer": "ipython3",
   "version": "3.12.2"
  }
 },
 "nbformat": 4,
 "nbformat_minor": 2
}
