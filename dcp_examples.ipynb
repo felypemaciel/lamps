{
 "cells": [
  {
   "cell_type": "code",
   "execution_count": 1,
   "metadata": {},
   "outputs": [],
   "source": [
    "import cvxpy as cp"
   ]
  },
  {
   "cell_type": "code",
   "execution_count": 2,
   "metadata": {},
   "outputs": [],
   "source": [
    "x = cp.Variable()\n",
    "a = cp.Parameter(nonneg=True)"
   ]
  },
  {
   "cell_type": "code",
   "execution_count": 3,
   "metadata": {},
   "outputs": [
    {
     "name": "stdout",
     "output_type": "stream",
     "text": [
      "Curvarture of x: AFFINE\n",
      "Curvature of a: CONSTANT\n",
      "curvature of square(x): CONVEX\n",
      "curvature of sqrt(x): CONCAVE\n"
     ]
    }
   ],
   "source": [
    "print('Curvarture of x:', x.curvature)\n",
    "print('Curvature of a:', a.curvature)\n",
    "print('curvature of square(x):', cp.square(x).curvature)\n",
    "print('curvature of sqrt(x):', cp.sqrt(x).curvature)"
   ]
  },
  {
   "cell_type": "markdown",
   "metadata": {},
   "source": [
    "3.33"
   ]
  },
  {
   "cell_type": "code",
   "execution_count": 4,
   "metadata": {},
   "outputs": [],
   "source": [
    "x = cp.Variable()\n",
    "y = cp.Variable()\n",
    "a = cp.Parameter()"
   ]
  },
  {
   "cell_type": "code",
   "execution_count": 5,
   "metadata": {},
   "outputs": [],
   "source": [
    "sqrty   = cp.sqrt(y)\n",
    "x2sqrty = cp.quad_over_lin(x, sqrty)\n",
    "f = cp.norm2(1, x2sqrty)"
   ]
  },
  {
   "cell_type": "code",
   "execution_count": 6,
   "metadata": {},
   "outputs": [
    {
     "data": {
      "text/plain": [
       "'CONSTANT'"
      ]
     },
     "execution_count": 6,
     "metadata": {},
     "output_type": "execute_result"
    }
   ],
   "source": [
    "f.curvature"
   ]
  },
  {
   "cell_type": "markdown",
   "metadata": {},
   "source": [
    "3.38"
   ]
  },
  {
   "cell_type": "code",
   "execution_count": 15,
   "metadata": {},
   "outputs": [
    {
     "data": {
      "text/plain": [
       "'CONCAVE'"
      ]
     },
     "execution_count": 15,
     "metadata": {},
     "output_type": "execute_result"
    }
   ],
   "source": [
    "cp.minimum(2, x, cp.sqrt(x)).curvature"
   ]
  },
  {
   "cell_type": "markdown",
   "metadata": {},
   "source": [
    "**4.3** *Formulating constraints in CVX*. Below we give several convex constraints on scalar variables $x$, $y$, and $z$. Express each one as a set of valid constraints in CVX*. Directly expressing them in CVX* will lead to invalid constraints. You can also introduce additional variables, if needed.\n",
    "\n",
    "Check your reformulations by creating a small problem that includes these constraints, and solving it using CVX*. Your test problem doesn't have to be feasible, it's enough to verify that CVX* processes your constraints without error."
   ]
  },
  {
   "cell_type": "markdown",
   "metadata": {},
   "source": [
    "**(a)** $1/x + 1/y \\leq 1, x \\geq 0, y \\geq 0$"
   ]
  },
  {
   "cell_type": "code",
   "execution_count": 8,
   "metadata": {},
   "outputs": [
    {
     "data": {
      "text/plain": [
       "9.898979198766426"
      ]
     },
     "execution_count": 8,
     "metadata": {},
     "output_type": "execute_result"
    }
   ],
   "source": [
    "x = cp.Variable(nonneg=True)   # x >= 0\n",
    "y = cp.Variable(nonneg=True)   # y >= 0\n",
    "\n",
    "# define objective function (minimize 3*x1 + 2*x2)\n",
    "objective = cp.Minimize(3*x + 2*y)\n",
    "\n",
    "# define constraints\n",
    "constraints = [\n",
    "    cp.inv_pos(x) + cp.inv_pos(y) <= 1\n",
    "]\n",
    "\n",
    "# form and solve the problem\n",
    "problem = cp.Problem(objective, constraints)\n",
    "problem.solve()"
   ]
  },
  {
   "cell_type": "markdown",
   "metadata": {},
   "source": [
    "**(b)** $xy \\geq 1, x \\geq 0, y \\geq 0$"
   ]
  },
  {
   "cell_type": "code",
   "execution_count": 9,
   "metadata": {},
   "outputs": [
    {
     "data": {
      "text/plain": [
       "4.89897945484331"
      ]
     },
     "execution_count": 9,
     "metadata": {},
     "output_type": "execute_result"
    }
   ],
   "source": [
    "x = cp.Variable(nonneg=True)\n",
    "y = cp.Variable(nonneg=True)\n",
    "\n",
    "objective = cp.Minimize(3*x + 2*y)\n",
    "\n",
    "constraints = [\n",
    "    x >= cp.inv_pos(y)\n",
    "]\n",
    "\n",
    "problem = cp.Problem(objective, constraints)\n",
    "problem.solve()"
   ]
  },
  {
   "cell_type": "markdown",
   "metadata": {},
   "source": [
    "**(c)** $(x+y)^2/\\sqrt{y} \\leq x - y + 5$ with implicit constraint $y \\geq 0$"
   ]
  },
  {
   "cell_type": "code",
   "execution_count": 10,
   "metadata": {},
   "outputs": [
    {
     "data": {
      "text/plain": [
       "-4.908788065336004"
      ]
     },
     "execution_count": 10,
     "metadata": {},
     "output_type": "execute_result"
    }
   ],
   "source": [
    "x = cp.Variable()\n",
    "y = cp.Variable(nonneg=True)\n",
    "s = cp.Variable(nonneg=True)\n",
    "t = cp.Variable()\n",
    "\n",
    "constraints = [\n",
    "    cp.quad_over_lin(x + y, s) <= t,\n",
    "    t <= x - y + 5,\n",
    "    y >= cp.square(s)\n",
    "]\n",
    "\n",
    "objective = cp.Minimize(3*x + 2*y)\n",
    "\n",
    "problem = cp.Problem(objective, constraints)\n",
    "problem.solve()"
   ]
  },
  {
   "cell_type": "markdown",
   "metadata": {},
   "source": [
    "**(d)** $x + z \\leq 1 + \\sqrt{xy - z^2}$ $x \\geq 0, y \\geq 0$"
   ]
  },
  {
   "cell_type": "code",
   "execution_count": 11,
   "metadata": {},
   "outputs": [],
   "source": [
    "import cvxpy as cp\n",
    "\n",
    "x = cp.Variable(nonneg=True)\n",
    "y = cp.Variable(nonneg=True)\n",
    "z = cp.Variable()"
   ]
  },
  {
   "cell_type": "code",
   "execution_count": 17,
   "metadata": {},
   "outputs": [
    {
     "data": {
      "text/plain": [
       "1.4115420131823242e-10"
      ]
     },
     "execution_count": 17,
     "metadata": {},
     "output_type": "execute_result"
    }
   ],
   "source": [
    "import cvxpy as cp\n",
    "\n",
    "x = cp.Variable(nonneg=True)\n",
    "y = cp.Variable(nonneg=True)\n",
    "z = cp.Variable()\n",
    "t = cp.Variable(nonneg=True)\n",
    "\n",
    "constraints = [\n",
    "    x + z <= 1 + t, \n",
    "    cp.norm(cp.vstack([2 * z, 2 * t])) <= x + y, \n",
    "    t >= 0\n",
    "]\n",
    "\n",
    "objective = cp.Minimize(x + y + z)\n",
    "\n",
    "prob = cp.Problem(objective, constraints)\n",
    "prob.solve()"
   ]
  },
  {
   "cell_type": "markdown",
   "metadata": {},
   "source": [
    "*Optimal activity levels*. We consider the selection of $n$ nonnegative activity levels, denoted $x_1,\\dots,x_n$. These activities consume $m$ resources, which are limited. Activity j consumes\n",
    " $A_{ij}x_j$ of resource $i$, where $A_{ij}$ are given. The total resource consumption is additive, so the total of resource $i$ consumed is $c_i = \\sum_{j=1}^{n}{A_{ij}x_j}$. (Ordinarily we have $A_{ij} \\geq 0$, i.e., activity $j$ consumes resource $i$. But we allow the possibility that $A_{ij} < 0$, which means that activity $j$ actually generates resource $i$ as a by-product.) Each resource consumption is limited: we must have $c_i \\leq c_i^{max}$, where $c_i^{max}$ are given. Each activity generates revenue, which is a piecewise-linear concave function of the activity level:\n",
    " $$\n",
    "    r_j(x_j) = \\begin{cases}\n",
    "        p_jx_j & 0 \\leq x_j \\leq q_j\\\\\n",
    "        p_jq_j + p_j^{disc}(x_j - q_j) & x_j \\geq q_j.\n",
    "    \\end{cases}\n",
    "$$\n",
    "\n",
    "Here $p_j > 0$ is the basic price, $q_j > 0$ is the quantity discount level, and $p^{disc}$ is the quantity discount price, for (the product of) activity $j$. (We have $0 < p_j^{disc} < p_j.$) The total revenue is the sum of the revenues associated with each activity, i.e., \\sum_{j=1}^n r_j(x_j). The goal is to choose activity levels that maximize the total revenue while respecting the resource limits. Show how to formulate this problem as an LP."
   ]
  },
  {
   "cell_type": "markdown",
   "metadata": {},
   "source": [
    "* Selection of $n$ nonnegative activity levels: $x_1, \\dots, x_n$. \n",
    "* The activities consume $m$ resources (limited)\n",
    "* Activity $j$ consumes $A_{ij}x_j$ of resource $i$.\n",
    "\n",
    "* Total of resource $i$ consumed is $c_i = \\sum_{j=1}^{n} A_{ij}x_j$ \n",
    "\n",
    "* resource consumption limited: $c_i \\leq c_i^{max}$"
   ]
  },
  {
   "cell_type": "markdown",
   "metadata": {},
   "source": [
    "Revenue generated by each activity:\n",
    "$$\n",
    "r_j (x_j) = \\begin{cases}\n",
    "    p_j x_j & 0 \\leq x_j \\leq q_j\\\\\n",
    "    p_j q_j + p_j^{disc}(x_j - q_j) & x_j \\geq q_j\n",
    "\\end{cases}\n",
    "$$"
   ]
  },
  {
   "cell_type": "markdown",
   "metadata": {},
   "source": [
    "* $p_j > 0$: basic price\n",
    "* $q_j > 0$: quantity discount level\n",
    "* $p_j^{disc}$: quantity discount price for the product of activity $j$\n",
    "* $0 < p_j^{disc}$\n",
    "* Total revenue associated with each activity $\\sum_{j=1}^n r_j(x_j)$\n",
    "* **goal:** choose activity levels that maximize the total revenue while respecting resource limits."
   ]
  },
  {
   "cell_type": "code",
   "execution_count": 2,
   "metadata": {},
   "outputs": [],
   "source": [
    "import cvxpy as cp\n",
    "import numpy as np"
   ]
  },
  {
   "cell_type": "code",
   "execution_count": null,
   "metadata": {},
   "outputs": [
    {
     "name": "stdout",
     "output_type": "stream",
     "text": [
      "Optimal activity levels (x): [ 4.00000008 22.49999987 30.99999992  1.50000002]\n",
      "Optimal revenue vector (r): 192.49999976681522\n",
      "Total revenue: 192.49999976681522\n"
     ]
    }
   ],
   "source": [
    "A      = cp.Parameter((5,4))    # activity x product consume\n",
    "c_max  = cp.Parameter(5)        # resource maximum consume\n",
    "p      = cp.Parameter(4)        # basic price\n",
    "p_disc = cp.Parameter(4)        # discount price of activity j\n",
    "q      = cp.Parameter(4)        # discount level \n",
    "\n",
    "# atribute values\n",
    "A.value = np.array([[1, 2, 0, 1], \n",
    "                   [0, 0, 3, 1],\n",
    "                   [0, 3, 1, 1],\n",
    "                   [2, 1, 2, 5],\n",
    "                   [1, 0, 3, 2]])\n",
    "\n",
    "c_max.value  = np.full(5, 100)\n",
    "p.value      = np.array([3, 2, 7, 6])\n",
    "p_disc.value = np.array([2, 1, 4, 2])\n",
    "q.value      = np.array([4, 10, 5, 10])\n",
    "\n",
    "x = cp.Variable(4, nonneg=True) # activity level\n",
    "r = cp.Variable(4)              # revenue vector\n",
    "\n",
    "y = cp.Variable(4, nonneg=True)\n",
    "z = cp.Variable(4, nonneg=True)\n",
    "\n",
    "# r = p @ cp.minimum(x, q) + p_disc @ cp.maximum(x - q, 0)\n",
    "r = p @ y + p_disc @ z\n",
    "\n",
    "# objective function\n",
    "objective = cp.Maximize(cp.sum(r))\n",
    "\n",
    "# constraints\n",
    "constraints = [\n",
    "    A @ x <= c_max,\n",
    "    y + z == x,\n",
    "    y <= q,\n",
    "    z >= 0\n",
    "]\n",
    "\n",
    "# form and solve the problem\n",
    "problem = cp.Problem(objective, constraints)\n",
    "problem.solve()"
   ]
  },
  {
   "cell_type": "code",
   "execution_count": 65,
   "metadata": {},
   "outputs": [],
   "source": [
    "revenue = np.zeros(4)\n",
    "\n",
    "for i in range(len(x.value)):\n",
    "    if x.value[i] < q.value[i]:\n",
    "        revenue[i] = p.value[i]*x.value[i]\n",
    "    else:\n",
    "        revenue[i] = p.value[i]*q.value[i] + p_disc.value[i]*(x.value[i] - q.value[i])"
   ]
  },
  {
   "cell_type": "code",
   "execution_count": 77,
   "metadata": {},
   "outputs": [],
   "source": [
    "average_price_unit = revenue/x.value"
   ]
  },
  {
   "cell_type": "code",
   "execution_count": 78,
   "metadata": {},
   "outputs": [
    {
     "name": "stdout",
     "output_type": "stream",
     "text": [
      "Optimal activity levels (x): ['4.00', '22.50', '31.00', '1.50']\n",
      "Optimal revenue vector (r): ['12.00', '32.50', '139.00', '9.00']\n",
      "Total revenue: 192.50\n",
      "Average price per unit: ['3.00', '1.44', '4.48', '6.00']\n"
     ]
    }
   ],
   "source": [
    "print(f\"Optimal activity levels (x): {[f'{v:.2f}' for v in x.value]}\")\n",
    "print(f\"Optimal revenue vector (r): {[f'{v:.2f}' for v in revenue]}\")\n",
    "print(f\"Total revenue: {problem.value:.2f}\")\n",
    "print(f\"Average price per unit: {[f'{v:.2f}' for v in average_price_unit]}\")"
   ]
  },
  {
   "cell_type": "markdown",
   "metadata": {},
   "source": [
    "*CVX implementation of a concave function*. Consider the convave fuction $f: \\mathbf{R} \\to \\mathbf{R}$ defined by\n",
    "\n",
    "$$\n",
    "    f(x) = \\begin{cases}\n",
    "        (x+1)/2 & x > 1\\\\\n",
    "        \\sqrt{x} & 0 \\leq x \\leq 1,\n",
    "    \\end{cases}\n",
    "$$\n",
    "\n",
    "with $\\mathbf{dom} f = \\mathbf{R}_+$. Give a CVX implementation of $f$, via a partially specified optimization problem. Check your implementation by maximizing $f(x) + f(a - x)$ for several interesting values of $a$ (say, $a = -1$, $a = 1$, and $a = 3$)."
   ]
  },
  {
   "cell_type": "code",
   "execution_count": 1,
   "metadata": {},
   "outputs": [],
   "source": [
    "import cvxpy as cp\n",
    "import numpy as np"
   ]
  },
  {
   "cell_type": "code",
   "execution_count": 9,
   "metadata": {},
   "outputs": [],
   "source": [
    "def f_cvx(x):\n",
    "    f1 = (x + 1)/2\n",
    "    f2 = cp.sqrt(x)\n",
    "\n",
    "    return cp.minimum(f1, f2)"
   ]
  },
  {
   "cell_type": "code",
   "execution_count": 10,
   "metadata": {},
   "outputs": [
    {
     "name": "stdout",
     "output_type": "stream",
     "text": [
      "a = -1, x_opt = None, f(x) + f(a - x) = -inf\n",
      "a = 1, x_opt = 0.5000000000002822, f(x) + f(a - x) = 1.414213562373095\n",
      "a = 3, x_opt = 1.499999999996737, f(x) + f(a - x) = 2.449489742783178\n"
     ]
    }
   ],
   "source": [
    "a_values = [-1, 1, 3]\n",
    "\n",
    "for a in a_values:\n",
    "    x = cp.Variable()\n",
    "    objective = cp.Maximize(f_cvx(x) + f_cvx(a - x))\n",
    "    constraints = [x >= 0, a - x >= 0]\n",
    "    prob = cp.Problem(objective, constraints)\n",
    "    prob.solve()\n",
    "    print(f\"a = {a}, x_opt = {x.value}, f(x) + f(a - x) = {prob.value}\")"
   ]
  }
 ],
 "metadata": {
  "kernelspec": {
   "display_name": "Python 3",
   "language": "python",
   "name": "python3"
  },
  "language_info": {
   "codemirror_mode": {
    "name": "ipython",
    "version": 3
   },
   "file_extension": ".py",
   "mimetype": "text/x-python",
   "name": "python",
   "nbconvert_exporter": "python",
   "pygments_lexer": "ipython3",
   "version": "3.12.2"
  }
 },
 "nbformat": 4,
 "nbformat_minor": 2
}
