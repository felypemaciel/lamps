{
 "cells": [
  {
   "cell_type": "markdown",
   "metadata": {},
   "source": [
    "**General Form of a Linear Programming**\n",
    "\n",
    "$$\n",
    "\\begin{align*}\n",
    "    \\min \\quad & c^T x \\\\\n",
    "    s.t. \\quad & Ax \\leq b, \\quad x \\geq 0\n",
    "\\end{align*}\n",
    "$$"
   ]
  },
  {
   "cell_type": "markdown",
   "metadata": {},
   "source": [
    "**Example Problem**\n",
    "\n",
    "$$\n",
    "\\begin{align*}\n",
    "    \\min \\quad & 3x_1 + 2x_2 \\\\\n",
    "    s.t. \\quad & x_1 + x_2 \\leq 4 \\\\\n",
    "               & 2x_1 + x_2 \\leq 5 \\\\\n",
    "               & x_1, x_2 \\geq 0\n",
    "\\end{align*}\n",
    "$$"
   ]
  },
  {
   "cell_type": "code",
   "execution_count": 1,
   "metadata": {},
   "outputs": [
    {
     "data": {
      "text/plain": [
       "4.3437076552795456e-10"
      ]
     },
     "execution_count": 1,
     "metadata": {},
     "output_type": "execute_result"
    }
   ],
   "source": [
    "import cvxpy as cp\n",
    "\n",
    "# define variables\n",
    "x1 = cp.Variable(nonneg=True)   # x1 >= 0\n",
    "x2 = cp.Variable(nonneg=True)   # x2 >= 0\n",
    "\n",
    "# define objective function (minimize 3*x1 + 2*x2)\n",
    "objective = cp.Minimize(3*x1 + 2*x2)\n",
    "\n",
    "# define constraints\n",
    "constraints = [\n",
    "    x1 + x2 <= 4, \n",
    "    2*x1 + x2 <= 5\n",
    "]\n",
    "\n",
    "# form and solve the problem\n",
    "problem = cp.Problem(objective, constraints)\n",
    "problem.solve()"
   ]
  },
  {
   "cell_type": "code",
   "execution_count": 2,
   "metadata": {},
   "outputs": [
    {
     "name": "stdout",
     "output_type": "stream",
     "text": [
      "Optimal value of x1: 8.707709439154459e-11\n",
      "Optimal value of x2: 8.656974117666041e-11\n",
      "Optimal objective value: 4.3437076552795456e-10\n"
     ]
    }
   ],
   "source": [
    "print('Optimal value of x1:', x1.value)\n",
    "print('Optimal value of x2:', x2.value)\n",
    "print('Optimal objective value:', problem.value)"
   ]
  },
  {
   "cell_type": "code",
   "execution_count": null,
   "metadata": {},
   "outputs": [],
   "source": []
  }
 ],
 "metadata": {
  "kernelspec": {
   "display_name": "Python 3",
   "language": "python",
   "name": "python3"
  },
  "language_info": {
   "codemirror_mode": {
    "name": "ipython",
    "version": 3
   },
   "file_extension": ".py",
   "mimetype": "text/x-python",
   "name": "python",
   "nbconvert_exporter": "python",
   "pygments_lexer": "ipython3",
   "version": "3.12.2"
  }
 },
 "nbformat": 4,
 "nbformat_minor": 2
}
